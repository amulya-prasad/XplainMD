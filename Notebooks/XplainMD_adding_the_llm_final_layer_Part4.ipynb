{
  "nbformat": 4,
  "nbformat_minor": 0,
  "metadata": {
    "colab": {
      "provenance": [],
      "machine_shape": "hm",
      "gpuType": "A100"
    },
    "kernelspec": {
      "name": "python3",
      "display_name": "Python 3"
    },
    "language_info": {
      "name": "python"
    },
    "accelerator": "GPU"
  },
  "cells": [
    {
      "cell_type": "code",
      "source": [],
      "metadata": {
        "id": "aAHu4uQ8KL7T"
      },
      "execution_count": null,
      "outputs": []
    },
    {
      "cell_type": "markdown",
      "source": [
        "##Setting up the environment"
      ],
      "metadata": {
        "id": "NiKDeHjfKNIN"
      }
    },
    {
      "cell_type": "code",
      "execution_count": null,
      "metadata": {
        "collapsed": true,
        "id": "dHqXagayexa6"
      },
      "outputs": [],
      "source": [
        "!pip uninstall torch torch-geometric torch-scatter torch-sparse torch-cluster torch-spline-conv pyg-lib -y\n",
        "!pip install torch==2.5.0+cu124 torchvision torchaudio --index-url https://download.pytorch.org/whl/cu124\n",
        "!pip install torch-geometric --no-cache-dir\n",
        "!pip install torch-scatter torch-sparse torch-cluster torch-spline-conv pyg-lib --no-cache-dir --find-links https://data.pyg.org/whl/torch-2.5.0+cu124.html\n",
        "!pip install --upgrade transformers huggingface_hub accelerate\n",
        "!pip install -U bitsandbytes\n",
        "!pip install pyvis\n",
        "!pip install -q gradio"
      ]
    },
    {
      "cell_type": "markdown",
      "source": [],
      "metadata": {
        "id": "JEh1WSxXVzII"
      }
    },
    {
      "cell_type": "markdown",
      "source": [
        "##Importing all the libraries"
      ],
      "metadata": {
        "id": "hpS0hOEH_NtJ"
      }
    },
    {
      "cell_type": "code",
      "source": [
        "import os\n",
        "import torch\n",
        "import torch.nn.functional as F\n",
        "import pickle\n",
        "import gradio as gr\n",
        "import pandas as pd\n",
        "import networkx as nx\n",
        "from pyvis.network import Network\n",
        "from torch_geometric.data import HeteroData\n",
        "from torch_geometric.nn import RGCNConv\n",
        "from torch_geometric.explain import Explainer, GNNExplainer\n",
        "from transformers import AutoTokenizer, AutoModelForCausalLM\n",
        "from IPython.display import IFrame"
      ],
      "metadata": {
        "id": "LHSlGAyWfRCn"
      },
      "execution_count": null,
      "outputs": []
    },
    {
      "cell_type": "markdown",
      "source": [
        " ## Loading LLaMA 3.1 8B Instruct Model (Meta)\n",
        "- Load the Meta LLaMA 3.1 8B Instruct model using Hugging Face’s transformers library.\n",
        "\n",
        "- Requires a valid Hugging Face access token (as the model is gated).\n",
        "\n",
        "- Loaded in float16 precision with automatic device mapping for GPU acceleration.\n",
        "\n",
        "- Used for generating natural language explanations from biomedical graph predictions."
      ],
      "metadata": {
        "id": "KC5UiS2WK26u"
      }
    },
    {
      "cell_type": "code",
      "source": [
        "#  Hugging Face token (for Colab runtime only)\n",
        "HF_TOKEN = input(\"Enter your Hugging Face token: \").strip()\n",
        "assert HF_TOKEN, \" Please provide a valid Hugging Face token.\""
      ],
      "metadata": {
        "collapsed": true,
        "id": "ZlHXou9XfRTD"
      },
      "execution_count": null,
      "outputs": []
    },
    {
      "cell_type": "code",
      "source": [
        "#  Load LLaMA 3.1 8B Instruct model\n",
        "model_name = \"meta-llama/Meta-Llama-3.1-8B-Instruct\"\n",
        "tokenizer = AutoTokenizer.from_pretrained(model_name, token=HF_TOKEN)\n",
        "llm = AutoModelForCausalLM.from_pretrained(model_name, token=HF_TOKEN, torch_dtype=torch.float16, device_map=\"auto\")"
      ],
      "metadata": {
        "id": "XDB3qXIqjlCR"
      },
      "execution_count": null,
      "outputs": []
    },
    {
      "cell_type": "markdown",
      "source": [
        "##Loading the Data\n",
        "\n",
        "- Loads the heterogeneous graph (HeteroData) from disk.\n",
        "\n",
        "- Loads the node maps (used for converting node names ↔ indices).\n",
        "\n",
        "- Constructs a relation-to-ID mapping for all edge types.\n",
        "\n",
        "- Concatenates node features from all node types into a unified feature matrix x.\n",
        "\n",
        "- Flattens all edge indices and types into edge_index and edge_type, so the model can treat it as a single homogeneous graph with edge type annotations.\n",
        "\n"
      ],
      "metadata": {
        "id": "lR8LB17JjyTk"
      }
    },
    {
      "cell_type": "code",
      "source": [
        "import tempfile\n",
        "import base64\n",
        "import gradio as gr\n",
        "\n",
        "# Load trained model components\n",
        "hetero_dict = torch.load(\"/content/drive/MyDrive/hetero_data_dict.pt\", map_location=\"cpu\")\n",
        "hetero_data = HeteroData.from_dict(hetero_dict)\n",
        "with open(\"/content/drive/MyDrive/node_maps.pkl\", \"rb\") as f:\n",
        "    node_maps = pickle.load(f)\n",
        "\n",
        "relation_to_id = {rel: i for i, rel in enumerate(hetero_data.edge_types)}\n",
        "x = torch.cat([hetero_data[n].x for n in hetero_data.node_types], dim=0)\n",
        "edge_index_all, edge_type_all = [], []\n",
        "for etype, eidx in hetero_data.edge_index_dict.items():\n",
        "    rel_id = relation_to_id[etype]\n",
        "    edge_index_all.append(eidx)\n",
        "    edge_type_all.append(torch.full((eidx.size(1),), rel_id, dtype=torch.long))\n",
        "edge_index = torch.cat(edge_index_all, dim=1)\n",
        "edge_type = torch.cat(edge_type_all)\n",
        "\n"
      ],
      "metadata": {
        "id": "LWC19PrkbC3E"
      },
      "execution_count": null,
      "outputs": []
    },
    {
      "cell_type": "markdown",
      "source": [
        " ## Model Loading: Multi-Relation R-GCN with DistMult Decoder\n",
        "\n",
        "In this section, the trained Relational Graph Convolutional Network (R-GCN) model equipped with a DistMult decoder is loaded for link prediction.\n",
        "\n",
        "- Encoder: A two-layer R-GCN that captures relational dependencies between heterogeneous biomedical entities (e.g., drug, disease, phenotype).\n",
        "\n",
        "- Decoder: A DistMult scoring function using a learned relation embedding per edge type to compute edge plausibility.\n",
        "\n",
        "- Checkpoint: Loading pre-trained model weights saved after training on multi-relational edge types like drug ➝ drug_effect ➝ phenotype and disease ➝ disease_phenotype_positive ➝ phenotype.\n",
        "\n",
        "This model will now be used for:\n",
        "\n",
        "- Making link predictions between biomedical entities\n",
        "\n",
        "- Explaining them using GNNExplainer, and\n",
        "\n",
        "- Validating predictions with natural language using an LLM (e.g., LLaMA 3.1 8B Instruct)."
      ],
      "metadata": {
        "id": "HHkeXKX1Mgqh"
      }
    },
    {
      "cell_type": "code",
      "source": [
        "# Model definitions\n",
        "class RGCNEncoder(torch.nn.Module):\n",
        "    def __init__(self, in_channels, hidden_channels, out_channels, num_relations):\n",
        "        super().__init__()\n",
        "        self.conv1 = RGCNConv(in_channels, hidden_channels, num_relations)\n",
        "        self.conv2 = RGCNConv(hidden_channels, out_channels, num_relations)\n",
        "\n",
        "    def forward(self, x, edge_index, edge_type):\n",
        "        x = self.conv1(x, edge_index, edge_type)\n",
        "        x = F.relu(x)\n",
        "        x = self.conv2(x, edge_index, edge_type)\n",
        "        return x\n",
        "\n",
        "class DistMultPredictor(torch.nn.Module):\n",
        "    def __init__(self, encoder, embedding_dim, num_relations):\n",
        "        super().__init__()\n",
        "        self.encoder = encoder\n",
        "        self.rel_embeddings = torch.nn.Embedding(num_relations, embedding_dim)\n",
        "\n",
        "    def forward(self, x, edge_index, edge_type, edge_label_index, edge_type_ids):\n",
        "        z = self.encoder(x, edge_index, edge_type)\n",
        "        src = z[edge_label_index[0]]\n",
        "        dst = z[edge_label_index[1]]\n",
        "        rel = self.rel_embeddings(edge_type_ids)\n",
        "        return (src * rel * dst).sum(dim=-1)\n",
        "\n",
        "# Load trained model state\n",
        "embedding_dim = 128\n",
        "encoder = RGCNEncoder(128, 256, embedding_dim, len(relation_to_id))\n",
        "ckpt = torch.load(\"/content/drive/MyDrive/rgcn_distmult_multirel_metrics.pt\", map_location=\"cpu\")\n",
        "encoder.load_state_dict(ckpt['encoder_state_dict'])\n",
        "predictor = DistMultPredictor(encoder, embedding_dim, len(relation_to_id))\n",
        "predictor.rel_embeddings.load_state_dict({'weight': ckpt['decoder_state_dict']['relation_embeddings.weight']})\n",
        "predictor.eval()\n"
      ],
      "metadata": {
        "id": "iYnSa8lDJ3V3"
      },
      "execution_count": null,
      "outputs": []
    },
    {
      "cell_type": "markdown",
      "source": [
        "##LLM-Enhanced Biomedical Link Prediction & Explanation\n",
        "We designed an interactive Gradio app that enables users to input a disease and a phenotype, and the system performs the following:\n",
        "\n",
        "# Step 1: Predict the Relationship\n",
        "- Uses a trained R-GCN encoder and a DistMult decoder to predict the likelihood\n",
        "  of a link between the disease and phenotype.\n",
        "\n",
        "- Outputs a normalized confidence score.\n",
        "\n",
        "# Step 2: Generate an Explanation with GNNExplainer\n",
        "- Extracts the top-k most influential edges using GNNExplainer.\n",
        "\n",
        "- Computes a separate confidence score using only the explanatory subgraph to\n",
        "  show explainability fidelity.\n",
        "\n",
        "# Step 3: Visualize the Subgraph\n",
        "- Displays an interactive PyVis network of important nodes and edges that\n",
        "  contributed to the prediction.\n",
        "\n",
        "\n",
        "# Step 4: Summarize Using a Language Model\n",
        "- Feeds the edge explanation and scores into LLaMA 3.1 8B Instruct to generate\n",
        "  a human-readable biological rationale.\n",
        "\n",
        "The generated explanation helps users understand why the model predicted the link.\n",
        "\n"
      ],
      "metadata": {
        "id": "7jLPLOcAM-Fh"
      }
    },
    {
      "cell_type": "code",
      "source": [
        "import gradio as gr\n",
        "import tempfile\n",
        "import base64\n",
        "import torch\n",
        "from torch_geometric.explain import Explainer, GNNExplainer\n",
        "import networkx as nx\n",
        "from pyvis.network import Network\n",
        "from transformers import AutoTokenizer, AutoModelForCausalLM\n",
        "\n",
        "# Assuming these are already loaded:\n",
        "# predictor, x, edge_index, edge_type, node_maps, relation_to_id, tokenizer, llm\n",
        "\n",
        "def explain_query(disease, phenotype):\n",
        "    try:\n",
        "        src_idx = node_maps[\"disease\"].get(disease)\n",
        "        dst_idx = node_maps[\"phenotype\"].get(phenotype)\n",
        "        rel_tuple = (\"disease\", \"disease_phenotype_positive\", \"phenotype\")\n",
        "        rel_id = torch.tensor([relation_to_id[rel_tuple]])\n",
        "\n",
        "        if src_idx is None or dst_idx is None:\n",
        "            return \"Invalid disease or phenotype name.\", \"<p style='color:red;'> Disease or phenotype not found.</p>\"\n",
        "\n",
        "        edge_label_index = torch.tensor([[src_idx], [dst_idx]])\n",
        "\n",
        "        # Prediction score from full graph\n",
        "        with torch.no_grad():\n",
        "            full_score = predictor(x, edge_index, edge_type, edge_label_index, rel_id).item()\n",
        "            normalized_full_score = torch.sigmoid(torch.tensor(full_score)).item()\n",
        "\n",
        "        # GNNExplainer setup\n",
        "        explainer = Explainer(\n",
        "            model=predictor,\n",
        "            algorithm=GNNExplainer(epochs=75),\n",
        "            explanation_type=\"model\",\n",
        "            edge_mask_type=\"object\",\n",
        "            model_config=dict(\n",
        "                mode=\"binary_classification\",\n",
        "                task_level=\"edge\",\n",
        "                return_type=\"raw\",\n",
        "            ),\n",
        "        )\n",
        "\n",
        "        explanation = explainer(\n",
        "            x=x,\n",
        "            edge_index=edge_index,\n",
        "            edge_type=edge_type,\n",
        "            edge_label_index=edge_label_index,\n",
        "            edge_type_ids=rel_id\n",
        "        )\n",
        "\n",
        "        edge_mask = explanation.edge_mask\n",
        "        top_edges = edge_mask.topk(15).indices\n",
        "        important_edges = edge_index[:, top_edges]\n",
        "\n",
        "        if important_edges.size(1) == 0:\n",
        "            return \"No important edges found for this prediction.\", \"<p>No influential subgraph detected.</p>\"\n",
        "\n",
        "        # Subgraph confidence\n",
        "        masked_edge_index = explanation.edge_index[:, explanation.edge_mask.bool()]\n",
        "        masked_edge_type = edge_type[explanation.edge_mask.bool()]\n",
        "        with torch.no_grad():\n",
        "            subgraph_score = predictor(x, masked_edge_index, masked_edge_type, edge_label_index, rel_id).item()\n",
        "            normalized_subgraph_score = torch.sigmoid(torch.tensor(subgraph_score)).item()\n",
        "\n",
        "        # Create graph\n",
        "        index_to_name = {v: k for t in node_maps for k, v in node_maps[t].items()}\n",
        "        G = nx.DiGraph()\n",
        "        for src, dst in important_edges.t().tolist():\n",
        "            G.add_edge(index_to_name.get(src, str(src)), index_to_name.get(dst, str(dst)))\n",
        "\n",
        "        net = Network(height=\"700px\", width=\"100%\", notebook=False, cdn_resources=\"in_line\", directed=True)\n",
        "        for node in G.nodes():\n",
        "            color = (\n",
        "                \"#A3C4F3\" if node == disease else\n",
        "                \"#FFB3C6\" if node == phenotype else\n",
        "                \"#D3F8E2\"\n",
        "            )\n",
        "            net.add_node(node, label=node, color=color, font={'size': 28, 'color': '#eeeeee'})\n",
        "\n",
        "        for src, dst in G.edges():\n",
        "            net.add_edge(src, dst)\n",
        "\n",
        "        net.set_options('''\n",
        "        {\n",
        "          \"nodes\": {\n",
        "            \"shape\": \"dot\",\n",
        "            \"size\": 25,\n",
        "            \"font\": { \"size\": 28, \"face\": \"arial\", \"color\": \"#eeeeee\" }\n",
        "          },\n",
        "          \"edges\": {\n",
        "            \"width\": 1.5,\n",
        "            \"color\": { \"color\": \"#cccccc\" },\n",
        "            \"smooth\": false\n",
        "          },\n",
        "          \"physics\": {\n",
        "            \"enabled\": true,\n",
        "            \"barnesHut\": {\n",
        "              \"gravitationalConstant\": -25000,\n",
        "              \"centralGravity\": 0.1,\n",
        "              \"springLength\": 300,\n",
        "              \"springConstant\": 0.04,\n",
        "              \"damping\": 0.15,\n",
        "              \"avoidOverlap\": 1\n",
        "            }\n",
        "          },\n",
        "          \"layout\": {\n",
        "            \"improvedLayout\": true\n",
        "          }\n",
        "        }\n",
        "        ''')\n",
        "\n",
        "        # Save and encode graph\n",
        "        with tempfile.NamedTemporaryFile(\"w+\", suffix=\".html\", delete=False) as tmp_file:\n",
        "            net.save_graph(tmp_file.name)\n",
        "            tmp_file.seek(0)\n",
        "            html_content = tmp_file.read()\n",
        "\n",
        "        dark_css = \"\"\"\n",
        "        <style>\n",
        "          body { background-color: #111111; margin: 0; padding: 0; }\n",
        "          #mynetwork { background-color: #111111 !important; }\n",
        "        </style>\n",
        "        \"\"\"\n",
        "        html_content = html_content.replace(\"</head>\", f\"{dark_css}</head>\")\n",
        "        encoded_html = base64.b64encode(html_content.encode(\"utf-8\")).decode(\"utf-8\")\n",
        "        iframe_html = f'''\n",
        "        <iframe src=\"data:text/html;base64,{encoded_html}\"\n",
        "                width=\"100%\" height=\"550px\" frameborder=\"0\"\n",
        "                sandbox=\"allow-scripts allow-same-origin\"></iframe>\n",
        "        '''\n",
        "\n",
        "        # LLM explanation\n",
        "        summary = \"\\n\".join([f\"- {index_to_name[src]} ⟶ {index_to_name[dst]}\" for src, dst in important_edges.t().tolist()])\n",
        "        prompt = f\"\"\"\n",
        "A biomedical GNN model predicted a relationship:\n",
        "- Disease: {disease}\n",
        "- Phenotype: {phenotype}\n",
        "\n",
        "Confidence Scores:\n",
        "- Full graph prediction (normalized): {normalized_full_score:.4f}\n",
        "- GNNExplainer subgraph prediction (normalized): {normalized_subgraph_score:.4f}\n",
        "\n",
        "Important edges influencing this prediction:\n",
        "{summary}\n",
        "\n",
        "Explain why this might make sense biologically, in a small paragraph. And don't write anything else.\n",
        "\"\"\"\n",
        "\n",
        "        inputs = tokenizer(prompt, return_tensors=\"pt\").to(llm.device)\n",
        "        outputs = llm.generate(**inputs, max_new_tokens=250)\n",
        "        explanation = tokenizer.decode(outputs[0], skip_special_tokens=True)\n",
        "\n",
        "        return explanation.strip(), iframe_html\n",
        "\n",
        "    except Exception as e:\n",
        "        import traceback\n",
        "        print(\"Exception:\", traceback.format_exc())\n",
        "        return f\"Error: {str(e)}\", f\"<p style='color:red;'> {str(e)}</p>\"\n",
        "\n"
      ],
      "metadata": {
        "id": "362rcDlpEmN3"
      },
      "execution_count": null,
      "outputs": []
    },
    {
      "cell_type": "markdown",
      "source": [
        "##XplainMD: A Multi-Relation Biomedical Link Prediction & Explanation Tool\n",
        "I built an interactive Gradio-based chatbot that allows users to input any disease–phenotype pair and receive a real-time explanation of the predicted link using our trained multi-relation DistMult GNN model.\n",
        "\n",
        "- User Input: Disease and phenotype names (e.g., diabetes, retinopathy)\n",
        "\n",
        "- Prediction: The model computes the confidence score of the link\n",
        "\n",
        "-  Explainability: GNNExplainer identifies key edges influencing the prediction\n",
        "\n",
        "- LLM Reasoning: LLaMA 3.1 generates a human-readable biological explanation\n",
        "\n",
        "- Subgraph Visualization: Interactive PyVis graph highlights important nodes and relationships in the knowledge graph\n",
        "\n",
        "This interface bridges the gap between complex model internals and domain interpretability, enabling both researchers and clinicians to interactively explore and validate AI-driven biomedical hypotheses."
      ],
      "metadata": {
        "id": "wXCrZyTBS1tV"
      }
    },
    {
      "cell_type": "code",
      "source": [
        "# Gradio app\n",
        "with gr.Blocks(title=\"XplainMD: Multi-Relation DistMult\") as demo:\n",
        "    gr.Markdown(\"## XplainMD: A Multi-Relation Biomedical Link Prediction & Explanation Tool \")\n",
        "    gr.Markdown(\"This tool predicts and explains disease-phenotype links using multi-relation GCN.\")\n",
        "    with gr.Row():\n",
        "        with gr.Column(scale=1):\n",
        "            disease_input = gr.Textbox(label=\"Enter Disease\")\n",
        "            phenotype_input = gr.Textbox(label=\"Enter Phenotype\")\n",
        "            run_button = gr.Button(\"Run Explanation\")\n",
        "        with gr.Column(scale=2):\n",
        "            explanation_output = gr.Textbox(label=\"Prediction & Confidence\", lines=8, interactive=False)\n",
        "            graph_output = gr.HTML(label=\"Subgraph Visualization\")\n",
        "\n",
        "    run_button.click(fn=explain_query, inputs=[disease_input, phenotype_input], outputs=[explanation_output, graph_output])\n",
        "\n",
        "demo.launch(share=True)"
      ],
      "metadata": {
        "id": "EYCarJyxEsfM"
      },
      "execution_count": null,
      "outputs": []
    },
    {
      "cell_type": "code",
      "source": [],
      "metadata": {
        "id": "wpSQr9oLWkat"
      },
      "execution_count": null,
      "outputs": []
    }
  ]
}
